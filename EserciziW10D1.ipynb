{
 "cells": [
  {
   "cell_type": "code",
   "execution_count": 9,
   "id": "c72d1cb4-0000-4249-b9c3-a4471c22ff64",
   "metadata": {},
   "outputs": [],
   "source": [
    "import numpy as np\n",
    "import pandas as pd"
   ]
  },
  {
   "cell_type": "markdown",
   "id": "9101784c-1d99-4183-88c9-d3e4d9814952",
   "metadata": {},
   "source": [
    "Abbiamo una lista di **liste**: mat = [[0, 1, 2, 3, 4], [5, 6, 7, 8, 9], [10, 11, 12, 13, 14]]. Che tipo di struttura dati o matematica potrebbe rappresentare? Notare che tutte le liste \"interne\" sono della stessa dimensione Come facciamo per accedere ad un elemento in particolare?"
   ]
  },
  {
   "cell_type": "code",
   "execution_count": 36,
   "id": "e9cb6394-6ab0-4729-a155-9bc223adace3",
   "metadata": {},
   "outputs": [
    {
     "name": "stdout",
     "output_type": "stream",
     "text": [
      "[[0, 1, 2, 3, 4], [5, 6, 7, 8, 9], [10, 11, 12, 13, 14]]\n",
      "<class 'list'>\n"
     ]
    }
   ],
   "source": [
    "mat = [[0, 1, 2, 3, 4], [5, 6, 7, 8, 9], [10, 11, 12, 13, 14]] # Dato di tipo tabellare, potenziale DataFrame\n",
    "print(mat)\n",
    "print(type(mat))"
   ]
  },
  {
   "cell_type": "code",
   "execution_count": 38,
   "id": "fd7cd89b-e3bc-4bf5-96f8-9d834f322008",
   "metadata": {},
   "outputs": [
    {
     "data": {
      "text/html": [
       "<div>\n",
       "<style scoped>\n",
       "    .dataframe tbody tr th:only-of-type {\n",
       "        vertical-align: middle;\n",
       "    }\n",
       "\n",
       "    .dataframe tbody tr th {\n",
       "        vertical-align: top;\n",
       "    }\n",
       "\n",
       "    .dataframe thead th {\n",
       "        text-align: right;\n",
       "    }\n",
       "</style>\n",
       "<table border=\"1\" class=\"dataframe\">\n",
       "  <thead>\n",
       "    <tr style=\"text-align: right;\">\n",
       "      <th></th>\n",
       "      <th>1</th>\n",
       "      <th>2</th>\n",
       "      <th>3</th>\n",
       "      <th>4</th>\n",
       "      <th>5</th>\n",
       "    </tr>\n",
       "  </thead>\n",
       "  <tbody>\n",
       "    <tr>\n",
       "      <th>A</th>\n",
       "      <td>0</td>\n",
       "      <td>1</td>\n",
       "      <td>2</td>\n",
       "      <td>3</td>\n",
       "      <td>4</td>\n",
       "    </tr>\n",
       "    <tr>\n",
       "      <th>B</th>\n",
       "      <td>5</td>\n",
       "      <td>6</td>\n",
       "      <td>7</td>\n",
       "      <td>8</td>\n",
       "      <td>9</td>\n",
       "    </tr>\n",
       "    <tr>\n",
       "      <th>C</th>\n",
       "      <td>10</td>\n",
       "      <td>11</td>\n",
       "      <td>12</td>\n",
       "      <td>13</td>\n",
       "      <td>14</td>\n",
       "    </tr>\n",
       "  </tbody>\n",
       "</table>\n",
       "</div>"
      ],
      "text/plain": [
       "    1   2   3   4   5\n",
       "A   0   1   2   3   4\n",
       "B   5   6   7   8   9\n",
       "C  10  11  12  13  14"
      ]
     },
     "execution_count": 38,
     "metadata": {},
     "output_type": "execute_result"
    }
   ],
   "source": [
    "df = pd.DataFrame(mat, index=['A','B','C'], columns=[1, 2, 3, 4, 5])\n",
    "df"
   ]
  },
  {
   "cell_type": "code",
   "execution_count": 40,
   "id": "57cf47c8-b05d-448c-be49-d32456249c8c",
   "metadata": {},
   "outputs": [
    {
     "data": {
      "text/plain": [
       "(3, 5)"
      ]
     },
     "execution_count": 40,
     "metadata": {},
     "output_type": "execute_result"
    }
   ],
   "source": [
    "df.shape"
   ]
  },
  {
   "cell_type": "code",
   "execution_count": 46,
   "id": "d9cb213a-2ad9-4b39-aa56-5840c987605f",
   "metadata": {},
   "outputs": [
    {
     "data": {
      "text/plain": [
       "[[0, 1, 2, 3, 4], [5, 6, 7, 8, 9], [10, 11, 12, 13, 14]]"
      ]
     },
     "execution_count": 46,
     "metadata": {},
     "output_type": "execute_result"
    }
   ],
   "source": [
    "mat_2 = [[0, 1, 2, 3, 4], [5, 6, 7, 8, 9], [10, 11, 12, 13, 14]]\n",
    "mat_2"
   ]
  },
  {
   "cell_type": "code",
   "execution_count": 50,
   "id": "bc3e3dfa-c050-46f3-b98b-85893024a580",
   "metadata": {},
   "outputs": [
    {
     "data": {
      "text/plain": [
       "5"
      ]
     },
     "execution_count": 50,
     "metadata": {},
     "output_type": "execute_result"
    }
   ],
   "source": [
    "mat_2[1][0] # per accedere ad un singolo elemento"
   ]
  },
  {
   "cell_type": "markdown",
   "id": "ad2c2a3d-c529-4851-9126-d89aa25afcab",
   "metadata": {},
   "source": [
    "Importiamo il **modulo math** e proviamo a usare le funzioni **.sin()**, **.cos()**, **.factorial()** e la variabile **.pi.** La riconoscete?"
   ]
  },
  {
   "cell_type": "code",
   "execution_count": 53,
   "id": "097be52a-eb49-45ee-a9a4-bfb0795f63b9",
   "metadata": {},
   "outputs": [],
   "source": [
    "import math as m"
   ]
  },
  {
   "cell_type": "code",
   "execution_count": 55,
   "id": "c0a5d863-bf70-4d77-80d9-93d059664fd0",
   "metadata": {},
   "outputs": [
    {
     "data": {
      "text/plain": [
       "-0.9880316240928618"
      ]
     },
     "execution_count": 55,
     "metadata": {},
     "output_type": "execute_result"
    }
   ],
   "source": [
    "m.sin(30)"
   ]
  },
  {
   "cell_type": "code",
   "execution_count": 57,
   "id": "1e2a45ce-30c7-47eb-9250-e003c260fece",
   "metadata": {},
   "outputs": [
    {
     "data": {
      "text/plain": [
       "0.15425144988758405"
      ]
     },
     "execution_count": 57,
     "metadata": {},
     "output_type": "execute_result"
    }
   ],
   "source": [
    "m.cos(30)"
   ]
  },
  {
   "cell_type": "code",
   "execution_count": 67,
   "id": "7b2a6b28-fc19-48bd-a631-c668b20993ab",
   "metadata": {},
   "outputs": [
    {
     "data": {
      "text/plain": [
       "6"
      ]
     },
     "execution_count": 67,
     "metadata": {},
     "output_type": "execute_result"
    }
   ],
   "source": [
    "m.factorial(3)"
   ]
  },
  {
   "cell_type": "code",
   "execution_count": 69,
   "id": "1b17957a-c6b4-4f05-a5d6-efedf17b8e43",
   "metadata": {},
   "outputs": [
    {
     "data": {
      "text/plain": [
       "3.141592653589793"
      ]
     },
     "execution_count": 69,
     "metadata": {},
     "output_type": "execute_result"
    }
   ],
   "source": [
    "m.pi # pi greco"
   ]
  },
  {
   "cell_type": "markdown",
   "id": "c818b4a3-c83d-4985-a4f7-67282630472f",
   "metadata": {},
   "source": [
    "Proviamo a eseguire **math.degrees(math.pi)**. Qual è e cosa significa il risultato? Per saperne di più su questa funzione possiamo usare **help(math.degrees)**."
   ]
  },
  {
   "cell_type": "code",
   "execution_count": 74,
   "id": "dbe4a054-382c-43bd-9889-2319ecf078db",
   "metadata": {},
   "outputs": [
    {
     "data": {
      "text/plain": [
       "180.0"
      ]
     },
     "execution_count": 74,
     "metadata": {},
     "output_type": "execute_result"
    }
   ],
   "source": [
    "m.degrees(m.pi)"
   ]
  },
  {
   "cell_type": "code",
   "execution_count": 76,
   "id": "e8a36046-2756-4c65-90a4-ba377b6022e5",
   "metadata": {},
   "outputs": [
    {
     "name": "stdout",
     "output_type": "stream",
     "text": [
      "Help on built-in function degrees in module math:\n",
      "\n",
      "degrees(x, /)\n",
      "    Convert angle x from radians to degrees.\n",
      "\n"
     ]
    }
   ],
   "source": [
    "help(m.degrees)"
   ]
  },
  {
   "cell_type": "markdown",
   "id": "30eed29d-a040-4001-8371-732212e45c3c",
   "metadata": {},
   "source": [
    "L'azienda **Object SpA** ha creato una lista di quanti oggetti ha venduto ogni mese nell'ultimo anno: lst = [2000, 5500, 7200, 4320, 1280, 1900, 2500, 3900, 6410, 8150, 7100, 5350] trasformiamola in un **array NumPy** (casting): **lst = np.array(lst)** e rispondiamo alle domande del CEO della Object SpA: qual è stata la vendita massima mensile? E quella minima? Quali sono le vendite mensili maggiori di 5000 oggetti? E quante ne sono? E quali sono le vendite minori di 3000 oggetti? In media quanti oggetti sono stati venduti al mese?"
   ]
  },
  {
   "cell_type": "code",
   "execution_count": 81,
   "id": "8ed04588-fd14-4e4e-81a9-617afda0fd31",
   "metadata": {},
   "outputs": [],
   "source": [
    "lst = [2000, 5500, 7200, 4320, 1280, 1900, 2500, 3900, 6410, 8150, 7100, 5350]\n",
    "lst = np.array(lst)"
   ]
  },
  {
   "cell_type": "code",
   "execution_count": 83,
   "id": "1e8119ab-f730-4f89-bb33-245e81e75496",
   "metadata": {},
   "outputs": [
    {
     "data": {
      "text/plain": [
       "array([2000, 5500, 7200, 4320, 1280, 1900, 2500, 3900, 6410, 8150, 7100,\n",
       "       5350])"
      ]
     },
     "execution_count": 83,
     "metadata": {},
     "output_type": "execute_result"
    }
   ],
   "source": [
    "lst"
   ]
  },
  {
   "cell_type": "code",
   "execution_count": 108,
   "id": "44ff9b48-fc45-4806-962b-8248e2eacaeb",
   "metadata": {},
   "outputs": [
    {
     "data": {
      "text/plain": [
       "np.int64(8150)"
      ]
     },
     "execution_count": 108,
     "metadata": {},
     "output_type": "execute_result"
    }
   ],
   "source": [
    "np.max(lst)  # valore massimo dell'array"
   ]
  },
  {
   "cell_type": "code",
   "execution_count": 110,
   "id": "ad8b987f-c69a-45ed-9bec-423580ad4ffa",
   "metadata": {},
   "outputs": [
    {
     "data": {
      "text/plain": [
       "np.int64(1280)"
      ]
     },
     "execution_count": 110,
     "metadata": {},
     "output_type": "execute_result"
    }
   ],
   "source": [
    "np.min(lst)  # valore minimo dell'array"
   ]
  },
  {
   "cell_type": "code",
   "execution_count": 152,
   "id": "89acb603-94f2-4a8b-b590-2b5456d40df3",
   "metadata": {},
   "outputs": [],
   "source": [
    "vendite_mensili_maggiori = lst > 5000"
   ]
  },
  {
   "cell_type": "code",
   "execution_count": 166,
   "id": "87da4710-36ca-4305-aceb-545b0fa8f7e4",
   "metadata": {},
   "outputs": [],
   "source": [
    "check_vendite = lst[vendite_mensili_maggiori]  # creo una variabile che filtra solo le vendite maggiori di 5000"
   ]
  },
  {
   "cell_type": "code",
   "execution_count": 168,
   "id": "19f925c6-51fb-4db0-bb55-0aca44d437da",
   "metadata": {},
   "outputs": [
    {
     "name": "stdout",
     "output_type": "stream",
     "text": [
      "[5500 7200 6410 8150 7100 5350]\n",
      "6\n"
     ]
    }
   ],
   "source": [
    "print(check_vendite)\n",
    "print(check_vendite.size)"
   ]
  },
  {
   "cell_type": "code",
   "execution_count": 170,
   "id": "062c667f-e12a-4185-b48b-693774025a72",
   "metadata": {},
   "outputs": [],
   "source": [
    "vendite_mensili_minori = lst < 3000  # creo una variabile che filtra solo le vendite minori di 3000"
   ]
  },
  {
   "cell_type": "code",
   "execution_count": 172,
   "id": "4f0ebf97-1371-47c8-856b-26743539ee51",
   "metadata": {},
   "outputs": [],
   "source": [
    "check_vendite_2 = lst[vendite_mensili_minori]"
   ]
  },
  {
   "cell_type": "code",
   "execution_count": 174,
   "id": "b4c1debd-c04f-48dc-8c20-129810a84ef2",
   "metadata": {},
   "outputs": [
    {
     "name": "stdout",
     "output_type": "stream",
     "text": [
      "[2000 1280 1900 2500]\n",
      "4\n"
     ]
    }
   ],
   "source": [
    "print(check_vendite_2)\n",
    "print(check_vendite_2.size)"
   ]
  },
  {
   "cell_type": "code",
   "execution_count": 201,
   "id": "aea5b53f-7e4e-41d8-a674-6b49ea6ce6b5",
   "metadata": {},
   "outputs": [
    {
     "name": "stdout",
     "output_type": "stream",
     "text": [
      "Vendite_medie_annue: 4634.17\n"
     ]
    }
   ],
   "source": [
    "vendite_medie_annue = round(np.mean(lst), 2)    # vendite medie annue (arrotondate al secondo decimale)\n",
    "print(f'Vendite_medie_annue: {vendite_medie_annue}')"
   ]
  },
  {
   "cell_type": "markdown",
   "id": "b3d662d3-429e-4082-99c5-01b7da2175f5",
   "metadata": {},
   "source": [
    "Consideriamo il seguente **dizionario**: fatturati_dict = {1997: 12_000, 1998: 15_000, 1999: 20_000, 2000: 23_000, 2001: 25_000, 2002: 17_000, 2003: 14_000, 2004: 21_000}.\n",
    "Consideriamo ora la seguente **Series**: fatturati_series = pd.Series([12_000, 15_000, 20_000, 23_000, 25_000, 17_000, 14_000, 21_000], index=range(1997, 2005)).\n",
    "Possiamo accedere alle stesse informazioni allo stesso modo : fatturati_dict[1997], fatturati_series[1997].\n",
    "Dunque qual è la **differenza** tra i due tipi di dato?\n",
    "Cosa potremmo fare con la **Series** che non possiamo fare con il **dizionario**?"
   ]
  },
  {
   "cell_type": "code",
   "execution_count": 179,
   "id": "4246dce1-31ab-4a88-9b84-e89e0d924e61",
   "metadata": {},
   "outputs": [],
   "source": [
    "fatturati_dict = {1997: 12_000, 1998: 15_000, 1999: 20_000, 2000: 23_000, 2001: 25_000, 2002: 17_000, 2003: 14_000, 2004: 21_000}\n",
    "fatturati_series = pd.Series([12_000, 15_000, 20_000, 23_000, 25_000, 17_000, 14_000, 21_000], index=range(1997, 2005))"
   ]
  },
  {
   "cell_type": "code",
   "execution_count": 186,
   "id": "b21aab55-086d-4c0e-93d0-62858540a992",
   "metadata": {},
   "outputs": [
    {
     "data": {
      "text/plain": [
       "{1997: 12000,\n",
       " 1998: 15000,\n",
       " 1999: 20000,\n",
       " 2000: 23000,\n",
       " 2001: 25000,\n",
       " 2002: 17000,\n",
       " 2003: 14000,\n",
       " 2004: 21000}"
      ]
     },
     "execution_count": 186,
     "metadata": {},
     "output_type": "execute_result"
    }
   ],
   "source": [
    "fatturati_dict"
   ]
  },
  {
   "cell_type": "code",
   "execution_count": 188,
   "id": "614fa7e1-28a9-4571-87cd-b4740e0897dc",
   "metadata": {},
   "outputs": [
    {
     "data": {
      "text/plain": [
       "1997    12000\n",
       "1998    15000\n",
       "1999    20000\n",
       "2000    23000\n",
       "2001    25000\n",
       "2002    17000\n",
       "2003    14000\n",
       "2004    21000\n",
       "dtype: int64"
      ]
     },
     "execution_count": 188,
     "metadata": {},
     "output_type": "execute_result"
    }
   ],
   "source": [
    "fatturati_series"
   ]
  },
  {
   "cell_type": "code",
   "execution_count": 184,
   "id": "c3a7ecb2-da3b-4035-a8c4-792d43b30710",
   "metadata": {},
   "outputs": [
    {
     "name": "stdout",
     "output_type": "stream",
     "text": [
      "12000\n",
      "12000\n"
     ]
    }
   ],
   "source": [
    "print(fatturati_dict[1997])\n",
    "print(fatturati_series[1997])"
   ]
  },
  {
   "cell_type": "code",
   "execution_count": 235,
   "id": "53c9d191-101a-4be8-8647-420ffc0aa3f8",
   "metadata": {},
   "outputs": [
    {
     "name": "stdout",
     "output_type": "stream",
     "text": [
      "18375.0\n",
      "25000\n",
      "12000\n",
      "8\n"
     ]
    }
   ],
   "source": [
    "print(pd.Series.mean(fatturati_series))  # Nelle Series possiamo fare operazioni su tutti gli elementi contemporaneamente (MASKING)\n",
    "print(pd.Series.max(fatturati_series))\n",
    "print(pd.Series.min(fatturati_series))\n",
    "print(pd.Series.count(fatturati_series))"
   ]
  },
  {
   "cell_type": "code",
   "execution_count": 237,
   "id": "838996c9-4612-4fd5-8847-d5888629ff8b",
   "metadata": {},
   "outputs": [
    {
     "name": "stdout",
     "output_type": "stream",
     "text": [
      "dict_items([(1997, 12000), (1998, 15000), (1999, 20000), (2000, 23000), (2001, 25000), (2002, 17000), (2003, 14000), (2004, 21000)])\n",
      "dict_keys([1997, 1998, 1999, 2000, 2001, 2002, 2003, 2004])\n",
      "dict_values([12000, 15000, 20000, 23000, 25000, 17000, 14000, 21000])\n"
     ]
    }
   ],
   "source": [
    "print(fatturati_dict.items())  # Nel dizionario non possiamo fare operazioni, solo visualizzazione\n",
    "print(fatturati_dict.keys())\n",
    "print(fatturati_dict.values())"
   ]
  },
  {
   "cell_type": "markdown",
   "id": "27eed969-391c-46cd-98f6-e3c0f3c6279e",
   "metadata": {},
   "source": [
    "L'azienda **Object SpA** ha un dataset con tutti gli stipendi dei dipendenti, memorizzato in un **ndarray** (import numpy as np): stipendi = np.array( [100, 200, 300, 400, 500, 600, 700, 800, 900, 1000]). L'azienda ci chiede di raddoppiare tutti gli stipendi; facciamolo con un **ciclo for** e con il **masking**."
   ]
  },
  {
   "cell_type": "code",
   "execution_count": 239,
   "id": "4d348c6e-8913-4655-a502-2c6e2b128e91",
   "metadata": {},
   "outputs": [
    {
     "data": {
      "text/plain": [
       "array([ 100,  200,  300,  400,  500,  600,  700,  800,  900, 1000])"
      ]
     },
     "execution_count": 239,
     "metadata": {},
     "output_type": "execute_result"
    }
   ],
   "source": [
    "stipendi = np.array([100, 200, 300, 400, 500, 600, 700, 800, 900, 1000])\n",
    "stipendi"
   ]
  },
  {
   "cell_type": "code",
   "execution_count": 247,
   "id": "68b06460-ff3b-4fc5-befe-645ad7b1733f",
   "metadata": {},
   "outputs": [
    {
     "name": "stdout",
     "output_type": "stream",
     "text": [
      "200 400 600 800 1000 1200 1400 1600 1800 2000 "
     ]
    }
   ],
   "source": [
    "# METODO con ciclo for:\n",
    "for stipendio in stipendi:\n",
    "    stipendio_raddoppiato = stipendio * 2\n",
    "    print(stipendio_raddoppiato, end= ' ')"
   ]
  },
  {
   "cell_type": "code",
   "execution_count": 249,
   "id": "9d2216e2-1ada-4af6-9f11-1d75b9ddfbb1",
   "metadata": {},
   "outputs": [
    {
     "data": {
      "text/plain": [
       "array([ 200,  400,  600,  800, 1000, 1200, 1400, 1600, 1800, 2000])"
      ]
     },
     "execution_count": 249,
     "metadata": {},
     "output_type": "execute_result"
    }
   ],
   "source": [
    "# METODO con masking:\n",
    "stipendio_raddoppiato_2 = stipendi * 2\n",
    "stipendio_raddoppiato_2"
   ]
  },
  {
   "cell_type": "markdown",
   "id": "04da6952-6b8e-4d3b-b246-34c26a2279a6",
   "metadata": {},
   "source": [
    "Scrivere un programma che, data una lista di numeri, fornisca in output i **tre numeri più grandi**; gestire il caso in cui la lista sia più corta di tre, e quando uno o più dei numeri selezionati sono uguali."
   ]
  },
  {
   "cell_type": "code",
   "execution_count": 257,
   "id": "07281927-ccff-486b-9c2e-514e15d48b5c",
   "metadata": {},
   "outputs": [
    {
     "data": {
      "text/plain": [
       "[0, 1, 1, 2, 2, 3, 4, 4, 5, 6, 6, 7, 8, 8]"
      ]
     },
     "execution_count": 257,
     "metadata": {},
     "output_type": "execute_result"
    }
   ],
   "source": [
    "lista_numeri = [0, 1, 1, 2, 2, 3, 4, 4, 5, 6, 6, 7, 8, 8]\n",
    "lista_numeri"
   ]
  },
  {
   "cell_type": "code",
   "execution_count": 273,
   "id": "1b92c00a-aa13-4e4e-817e-d1239fb649a4",
   "metadata": {},
   "outputs": [
    {
     "name": "stdout",
     "output_type": "stream",
     "text": [
      "[6, 7, 8]\n"
     ]
    }
   ],
   "source": [
    "lista_numeri = list(set(lista_numeri)) # Trasformo la lista in set, così da rimuovere i valori duplicati, e poi di nuovo in lista\n",
    "if len(lista_numeri) > 3:\n",
    "    print(lista_numeri[-3:])\n",
    "else:\n",
    "    print('Lista troppo corta')"
   ]
  },
  {
   "cell_type": "markdown",
   "id": "749ec31c-e005-421e-b5f4-2e343e99603a",
   "metadata": {},
   "source": [
    "Scrivere un programma che in **input** acquisisce una lista di numeri e un numero K, mentre in **output** dovrà restituire la media di tutti i numeri nella lista maggiori o uguali a K. Se non ce ne dovesse essere nessuno, dovrà stampare a schermo un messaggio adeguato."
   ]
  },
  {
   "cell_type": "code",
   "execution_count": 338,
   "id": "bcf8818a-f2da-4daf-9c2a-ef280da22e07",
   "metadata": {},
   "outputs": [
    {
     "name": "stdin",
     "output_type": "stream",
     "text": [
      "Numero inserito:  60\n"
     ]
    },
    {
     "name": "stdout",
     "output_type": "stream",
     "text": [
      "65.0\n"
     ]
    }
   ],
   "source": [
    "import numpy as np\n",
    "K = int(input('Numero inserito: '))  # inizializzazione\n",
    "listozza_numeri = np.array([4, 13, 15, 65, 19, 20, 58, 7, 43, 2, 33])\n",
    "\n",
    "numeri_maggiori_di_K = listozza_numeri > K\n",
    "numeri_maggiori_di_K = listozza_numeri[numeri_maggiori_di_K]\n",
    "if (numeri_maggiori_di_K > K).all():\n",
    "    print(np.mean(numeri_maggiori_di_K))"
   ]
  },
  {
   "cell_type": "code",
   "execution_count": 340,
   "id": "5a9d4f68-faf1-4239-8809-f4e58ea36aab",
   "metadata": {},
   "outputs": [
    {
     "data": {
      "text/plain": [
       "array([65])"
      ]
     },
     "execution_count": 340,
     "metadata": {},
     "output_type": "execute_result"
    }
   ],
   "source": [
    "numeri_maggiori_di_K # Lista che si aggiorna in base a K"
   ]
  },
  {
   "cell_type": "markdown",
   "id": "1179f7b7-80ec-455b-8d12-26f81704dda4",
   "metadata": {},
   "source": [
    "Scrivere un programma che, data una lista di numeri, come output stamperà lo stesso numero di **asterischi** su righe diverse, ottenendo una semplice visualizzazione grafica; ad esempio, supponendo di avere il seguente input: numeri = [5, 2, 3, 4], l'output sarà: ***** , ** , *** , \n",
    " **** ."
   ]
  },
  {
   "cell_type": "code",
   "execution_count": 347,
   "id": "0d94bd40-23b0-4c11-bafe-aa626fe4cf26",
   "metadata": {},
   "outputs": [
    {
     "name": "stdout",
     "output_type": "stream",
     "text": [
      "*****\n",
      "**\n",
      "***\n",
      "****\n"
     ]
    }
   ],
   "source": [
    "input_numeri = [5, 2, 3, 4]  # inizializzazione\n",
    "\n",
    "for numero in input_numeri:\n",
    "    print(('*')* numero)   # ripetizione di una stringa"
   ]
  },
  {
   "cell_type": "markdown",
   "id": "3e05e5a5-a9f2-410e-8d35-1b66fde21b12",
   "metadata": {},
   "source": [
    "Abbiamo una lista di **codici fiscali**: lista_cf = [\"ABCDEF95G01A123B\", \"GHIJKL91M02A321C\", \"MNOPQR89S03A456D\", \"STUVWX95Z04A654E\", \"XYZABC01D05A789F\", \"DEFGHI95J06A987G\"]. Trovare i codici fiscali che contengono **\"95\"**, metterli in una lista, e alla fine stamparla; poi, per ognuno di essi, stampare a video i caratteri relativi al nome e quelli relativi al cognome."
   ]
  },
  {
   "cell_type": "code",
   "execution_count": 350,
   "id": "10cceed4-2878-4d5b-9e18-1af46d2f04ac",
   "metadata": {},
   "outputs": [],
   "source": [
    "lista_cf = [\"ABCDEF95G01A123B\", \"GHIJKL91M02A321C\", \"MNOPQR89S03A456D\", \"STUVWX95Z04A654E\", \"XYZABC01D05A789F\", \"DEFGHI95J06A987G\"]"
   ]
  },
  {
   "cell_type": "code",
   "execution_count": 362,
   "id": "0fb4946e-6d2f-4809-91ea-55e8d221e136",
   "metadata": {},
   "outputs": [
    {
     "name": "stdout",
     "output_type": "stream",
     "text": [
      "CF individuato = ABCDEF95G01A123B\n",
      "lista designata = ['ABCDEF95G01A123B']\n",
      "CF individuato = STUVWX95Z04A654E\n",
      "lista designata = ['ABCDEF95G01A123B', 'STUVWX95Z04A654E']\n",
      "CF individuato = DEFGHI95J06A987G\n",
      "lista designata = ['ABCDEF95G01A123B', 'STUVWX95Z04A654E', 'DEFGHI95J06A987G']\n"
     ]
    }
   ],
   "source": [
    "lista_designata = []  # qui metteremo i CF che rispettano la condizione richiesta\n",
    "\n",
    "for codice_fiscale in lista_cf:\n",
    "    if '95' in codice_fiscale:  # gli dico di cercarmi la stringa \n",
    "        print('CF individuato =', codice_fiscale)\n",
    "        lista_designata.append(codice_fiscale)\n",
    "        print('lista designata =', lista_designata)"
   ]
  },
  {
   "cell_type": "code",
   "execution_count": 388,
   "id": "b59b8940-b1f8-4914-b312-62cfdd46e391",
   "metadata": {},
   "outputs": [
    {
     "name": "stdout",
     "output_type": "stream",
     "text": [
      "ABC , GHI , MNO , STU , XYZ , DEF , lista nomi = ['ABC', 'GHI', 'MNO', 'STU', 'XYZ', 'DEF']\n"
     ]
    }
   ],
   "source": [
    "lista_nomi = []  # qui metteremo le stringhe relative al nome\n",
    "lista_cognomi = []  # qui metteremo le stringhe relative al cognome\n",
    "\n",
    "for codice_fiscale in lista_cf:\n",
    "    print(codice_fiscale[:3],',', end =' ')\n",
    "    lista_nomi.append(codice_fiscale[:3])\n",
    "\n",
    "print('lista nomi =', lista_nomi)"
   ]
  },
  {
   "cell_type": "code",
   "execution_count": 416,
   "id": "99d9aa4d-4f64-4a2c-ad25-2dd625090994",
   "metadata": {},
   "outputs": [
    {
     "name": "stdout",
     "output_type": "stream",
     "text": [
      "DEF , JKL , PQR , VWX , ABC , GHI , lista cognomi = ['DEF', 'JKL', 'PQR', 'VWX', 'ABC', 'GHI']\n"
     ]
    }
   ],
   "source": [
    "for codice_fiscale in lista_cf:\n",
    "    print(codice_fiscale[3:6],',', end =' ')\n",
    "    lista_cognomi.append(codice_fiscale[3:6])\n",
    "\n",
    "print('lista cognomi =', lista_cognomi)\n",
    "# lista_cognomi.clear()       svuota la lista "
   ]
  },
  {
   "cell_type": "code",
   "execution_count": 414,
   "id": "535383be-6888-4115-8f09-07465758450a",
   "metadata": {},
   "outputs": [],
   "source": [
    "lista_cognomi.clear()"
   ]
  },
  {
   "cell_type": "markdown",
   "id": "060319f7-9cd8-47d6-bd47-dcdb9ab53378",
   "metadata": {},
   "source": [
    "Abbiamo tre **liste** della stessa lunghezza, dove ogni elemento nella medesima posizione si riferisce ai dati dello stesso studente: studenti = [\"Alex\", \"Bob\", \"Cindy\", \"Dan\", \"Emma\", \"Faith\", \"Grace\", \"Henry\"]; corsi = [\"Cybersecurity\", \"Data Analyst\", \"Backend\", \"Frontend\", \"Data Analyst\", \"Backend\", \"Frontend\", \"Cybersecurity\"]; edizioni = [1, 2, 3, 2, 2, 1, 3, 3]. Stampare a video tutti e soli gli studenti che frequentano una **prima edizione**; non tutti i dati potrebbero essere necessari."
   ]
  },
  {
   "cell_type": "code",
   "execution_count": 430,
   "id": "32358ad1-05df-4e85-b824-9d02521eda0e",
   "metadata": {},
   "outputs": [],
   "source": [
    "studenti = [\"Alex\", \"Bob\", \"Cindy\", \"Dan\", \"Emma\", \"Faith\", \"Grace\", \"Henry\"]\n",
    "corsi = [\"Cybersecurity\", \"Data Analyst\", \"Backend\", \"Frontend\", \"Data Analyst\", \"Backend\", \"Frontend\", \"Cybersecurity\"]\n",
    "edizioni = [1, 2, 3, 2, 2, 1, 3, 3]\n",
    "# Gli elementi di ciascuna lista sono posizionali e Python, con la funzione ZIP, li riconosce come tali"
   ]
  },
  {
   "cell_type": "code",
   "execution_count": 432,
   "id": "3dc71e6f-a343-402d-8ac1-6be7a51c4e60",
   "metadata": {},
   "outputs": [
    {
     "name": "stdout",
     "output_type": "stream",
     "text": [
      "Alex ha partecipato al corso di Cybersecurity, edizione 1\n",
      "Faith ha partecipato al corso di Backend, edizione 1\n"
     ]
    }
   ],
   "source": [
    "for studente, corso, edizione in zip(studenti, corsi, edizioni):  # iteriamo su più liste contemporaneamente\n",
    "    if edizione == 1:\n",
    "        print(f'{studente} ha partecipato al corso di {corso}, edizione {edizione}')"
   ]
  },
  {
   "cell_type": "markdown",
   "id": "f78beb8e-7789-41ea-951e-db33ddf50aa2",
   "metadata": {},
   "source": [
    "Abbiamo una **lista di stringhe** di prezzi in dollari, che erroneamente sono stati scritti con il simbolo dell'euro: prezzi = [\"100 €\", \"200 €\", \"500 €\", \"10 €\", \"50 €\", \"70 €\"] cambiare il simbolo dell'euro (€) in quello del dollaro ($) per ogni stringa nella lista; il risultato sarà memorizzato in un'altra lista."
   ]
  },
  {
   "cell_type": "code",
   "execution_count": 448,
   "id": "85878870-b77c-4d81-9e7b-9bf969954728",
   "metadata": {},
   "outputs": [
    {
     "name": "stdout",
     "output_type": "stream",
     "text": [
      "Prezzi in dollaro = ['100 $', '200 $', '500 $', '10 $', '50 $', '70 $']\n"
     ]
    }
   ],
   "source": [
    "prezzi = [\"100 €\", \"200 €\", \"500 €\", \"10 €\", \"50 €\", \"70 €\"]\n",
    "prezzi_in_dollaro = []\n",
    "\n",
    "for prezzo in prezzi:\n",
    "    if '€' in prezzo:\n",
    "        prezzo_no_euro = prezzo.replace('€','')  # devo prima togliere la valuta\n",
    "        prezzi_in_dollaro.append(prezzo_no_euro + '$')  # nella lista vuota, faccio concatenzaione tra prezzo e $\n",
    "print(f'Prezzi in dollaro = {prezzi_in_dollaro}')\n",
    "\n",
    "# nuova_lista = [prezzo.replace('€','$') for prezzo in prezzi]    Comprehension"
   ]
  },
  {
   "cell_type": "markdown",
   "id": "563f8d35-34d6-4b9d-b1bb-5a82328f500b",
   "metadata": {},
   "source": [
    "Abbiamo una **lista di studenti**: studenti = [\"Alex\", \"Bob\", \"Cindy\", \"Dan\", \"Emma\", \"Faith\", \"Grace\", \"Henry\", \"Isabelle\", \"John\"]. Vogliamo dividere gli studenti in due squadre per un campionato di Uno nel seguente modo: selezioneremo i nomi in posizione pari per un squadra, e i nomi in posizione dispari per l'altra. Creiamo due liste per ogni squadra e alla fine visualizziamole."
   ]
  },
  {
   "cell_type": "code",
   "execution_count": 450,
   "id": "f6c65581-5fc4-4d71-a957-bd459254505f",
   "metadata": {},
   "outputs": [
    {
     "name": "stdout",
     "output_type": "stream",
     "text": [
      "Componenti Squadra Pari: ['Alex', 'Cindy', 'Emma', 'Grace', 'Isabelle']\n",
      "Componenti Squadra Dispari: ['Bob', 'Dan', 'Faith', 'Henry', 'John']\n"
     ]
    }
   ],
   "source": [
    "studenti = [\"Alex\", \"Bob\", \"Cindy\", \"Dan\", \"Emma\", \"Faith\", \"Grace\", \"Henry\", \"Isabelle\", \"John\"]\n",
    "squadra_pari = []\n",
    "squadra_dispari = []\n",
    "indice = 0\n",
    "\n",
    "while indice < len(studenti):\n",
    "    if indice % 2 == 0:\n",
    "        squadra_pari.append(studenti[indice])\n",
    "    else:\n",
    "        squadra_dispari.append(studenti[indice])\n",
    "    indice +=1\n",
    "print(f'Componenti Squadra Pari: {squadra_pari}')\n",
    "print(f'Componenti Squadra Dispari: {squadra_dispari}')\n",
    "        "
   ]
  },
  {
   "cell_type": "markdown",
   "id": "671569b8-1ee9-43b7-ac9d-5baa7eff86b9",
   "metadata": {},
   "source": [
    "Abbiamo una **lista** con i guadagni degli ultimi 12 mesi (supponiamo da Gennaio a Dicembre): guadagni = [100, 90, 70, 40, 50, 80, 90, 120, 80, 20, 50, 50]. Dobbiamo confrontare, stampando tutto a video, il **guadagno di ogni mese** con la media dei guadagni precedenti e specificare nell'output se il guadagno attuale è maggiore o minore della media dei precedenti. Esempio di un possibile output: Mese 1: 100 €, Mese 2: 90 € (media prec. : 100 € - il guadagno attuale è minore), Mese 3: 70 € (media prec. : 95 € - il guadagno attuale è minore)."
   ]
  },
  {
   "cell_type": "code",
   "execution_count": 460,
   "id": "b184b7c1-24ac-4f63-b294-21b5c38cd691",
   "metadata": {},
   "outputs": [],
   "source": [
    "guadagni = [100, 90, 70, 40, 50, 80, 90, 120, 80, 20, 50, 50]\n",
    "mesi = ['Gennaio', 'Febbraio', 'Marzo', 'Aprile', 'Maggio', 'Giugno', 'Luglio', 'Agosto', 'Settembre', 'Ottobre', 'Novembre', 'Dicembre']\n",
    "media = [100, 95, 80, 55, 45, 65, 85, 105, 100, 50, 35, 50]  # me le sono calcolate da solo perchè non sapevo come fare"
   ]
  },
  {
   "cell_type": "code",
   "execution_count": 466,
   "id": "6efc620e-3aa4-4a1a-bad5-666f2913410c",
   "metadata": {},
   "outputs": [
    {
     "name": "stdout",
     "output_type": "stream",
     "text": [
      "mese: Gennaio, guadagno: 100, media precedente: 100---> il guadagno è \n",
      "mese: Febbraio, guadagno: 90, media precedente: 95---> il guadagno è \n",
      "mese: Marzo, guadagno: 70, media precedente: 80---> il guadagno è \n",
      "mese: Aprile, guadagno: 40, media precedente: 55---> il guadagno è \n",
      "mese: Maggio, guadagno: 50, media precedente: 45---> il guadagno è \n",
      "mese: Giugno, guadagno: 80, media precedente: 65---> il guadagno è \n",
      "mese: Luglio, guadagno: 90, media precedente: 85---> il guadagno è \n",
      "mese: Agosto, guadagno: 120, media precedente: 105---> il guadagno è \n",
      "mese: Settembre, guadagno: 80, media precedente: 100---> il guadagno è \n",
      "mese: Ottobre, guadagno: 20, media precedente: 50---> il guadagno è \n",
      "mese: Novembre, guadagno: 50, media precedente: 35---> il guadagno è \n",
      "mese: Dicembre, guadagno: 50, media precedente: 50---> il guadagno è \n"
     ]
    }
   ],
   "source": [
    "for guadagno, mese, media_mensile in zip(guadagni, mesi, media):\n",
    "    \n",
    "    print(f'mese: {mese}, guadagno: {guadagno}, media precedente: {media_mensile}---> il guadagno è ')"
   ]
  },
  {
   "cell_type": "code",
   "execution_count": 470,
   "id": "ed989836-4cae-44cf-bf48-21a9301fb87d",
   "metadata": {},
   "outputs": [
    {
     "name": "stdout",
     "output_type": "stream",
     "text": [
      "Mese 1: 100 €\n",
      "Mese 2: 90 € (media precedente: 100.00 € ---> il guadagno attuale è minore)\n",
      "Mese 3: 70 € (media precedente: 95.00 € ---> il guadagno attuale è minore)\n",
      "Mese 4: 40 € (media precedente: 86.67 € ---> il guadagno attuale è minore)\n",
      "Mese 5: 50 € (media precedente: 75.00 € ---> il guadagno attuale è minore)\n",
      "Mese 6: 80 € (media precedente: 70.00 € ---> il guadagno attuale è maggiore)\n",
      "Mese 7: 90 € (media precedente: 71.67 € ---> il guadagno attuale è maggiore)\n",
      "Mese 8: 120 € (media precedente: 74.29 € ---> il guadagno attuale è maggiore)\n",
      "Mese 9: 80 € (media precedente: 80.00 € ---> il guadagno attuale è minore)\n",
      "Mese 10: 20 € (media precedente: 80.00 € ---> il guadagno attuale è minore)\n",
      "Mese 11: 50 € (media precedente: 74.00 € ---> il guadagno attuale è minore)\n",
      "Mese 12: 50 € (media precedente: 71.82 € ---> il guadagno attuale è minore)\n"
     ]
    }
   ],
   "source": [
    "for guadagno_mensile in range(len(guadagni)):  # usiamo la funzione range\n",
    "    guadagno_attuale = guadagni[guadagno_mensile]\n",
    "    mese = guadagno_mensile + 1\n",
    "\n",
    "    if guadagno_mensile == 0:\n",
    "        print(f\"Mese {mese}: {guadagno_attuale} €\") # se il guadagno mensile è pari a 0 stampami solo il mese\n",
    "    else:                 # altrimenti fammi la differenza tra la somma dei guadagni (step by step) e un determinato guadagno mensile\n",
    "        media_prec = sum(guadagni[:guadagno_mensile]) / guadagno_mensile  \n",
    "        confronto = \"maggiore\" if guadagno_attuale > media_prec else \"minore\"\n",
    "        print(f\"Mese {mese}: {guadagno_attuale} € (media precedente: {media_prec:.2f} € ---> il guadagno attuale è {confronto})\")"
   ]
  },
  {
   "cell_type": "code",
   "execution_count": null,
   "id": "351fead8-187e-43e0-b92d-78a6e6825f19",
   "metadata": {},
   "outputs": [],
   "source": []
  }
 ],
 "metadata": {
  "kernelspec": {
   "display_name": "Python [conda env:base] *",
   "language": "python",
   "name": "conda-base-py"
  },
  "language_info": {
   "codemirror_mode": {
    "name": "ipython",
    "version": 3
   },
   "file_extension": ".py",
   "mimetype": "text/x-python",
   "name": "python",
   "nbconvert_exporter": "python",
   "pygments_lexer": "ipython3",
   "version": "3.12.7"
  }
 },
 "nbformat": 4,
 "nbformat_minor": 5
}
