{
 "cells": [
  {
   "cell_type": "code",
   "execution_count": 8,
   "id": "8b10991a-a9d3-4abc-9d40-4bbf7b581b6f",
   "metadata": {},
   "outputs": [],
   "source": [
    "# Abbiamo 25 studenti; memorizzare questo dato in una variabile.\n",
    "studenti = 25 "
   ]
  },
  {
   "cell_type": "code",
   "execution_count": 10,
   "id": "17674db9-3068-4735-b5f3-f8223345e61d",
   "metadata": {},
   "outputs": [
    {
     "name": "stdout",
     "output_type": "stream",
     "text": [
      "25\n"
     ]
    }
   ],
   "source": [
    "# Abbiamo 25 studenti; memorizzare questo dato in una variabile e stamparla a video.\n",
    "print(studenti)"
   ]
  },
  {
   "cell_type": "code",
   "execution_count": 12,
   "id": "80c98209-e87c-40fb-83da-a832cea94bf9",
   "metadata": {},
   "outputs": [],
   "source": [
    "# Arrivano altri 3 studenti; memorizzare questo dato in un'altra variabile.\n",
    "nuovi_studenti = 3"
   ]
  },
  {
   "cell_type": "code",
   "execution_count": 16,
   "id": "1cb568bf-0cde-48b3-a8a1-a6225c74b3cb",
   "metadata": {},
   "outputs": [
    {
     "name": "stdout",
     "output_type": "stream",
     "text": [
      "28\n"
     ]
    }
   ],
   "source": [
    "# Creare un'altra variabile ancora che conterrà la somma delle prime due, poi stamparla a video.\n",
    "tot_studenti = nuovi_studenti + studenti\n",
    "print(tot_studenti)"
   ]
  },
  {
   "cell_type": "code",
   "execution_count": 18,
   "id": "0d0ad4ca-b8d9-4696-a09c-f12d25f5caa1",
   "metadata": {},
   "outputs": [
    {
     "name": "stdout",
     "output_type": "stream",
     "text": [
      "Epicode\n"
     ]
    }
   ],
   "source": [
    "# Creare una variabile che contiene la stringa \"Epicode\", quindi stamparla a video.\n",
    "Corso = 'Epicode'\n",
    "print(Corso)"
   ]
  },
  {
   "cell_type": "code",
   "execution_count": 23,
   "id": "e1191291-3c73-4d9f-9b32-68772df301c8",
   "metadata": {},
   "outputs": [
    {
     "name": "stdout",
     "output_type": "stream",
     "text": [
      "36\n"
     ]
    }
   ],
   "source": [
    "# Abbiamo la variabile x = 10. Incrementarla di 2 e poi moltiplicarla per 3.\n",
    "x = 10\n",
    "x = (10 + 2) * 3\n",
    "print(x)"
   ]
  },
  {
   "cell_type": "code",
   "execution_count": 25,
   "id": "7ebcb8dd-d90d-487c-b711-8f0591652cc0",
   "metadata": {},
   "outputs": [],
   "source": [
    "# Creiamo le seguenti stringhe (str1 = \"Windows\", str2 = \"Excel\", str3 = \"Powerpoint\", str4 = \"Word\".\n",
    "# Per ognuna di esse verifichiamone la lunghezza con la funzione len().\n",
    "str1 = 'Windows'\n",
    "str2 = 'Excel'\n",
    "str3 = 'Powerpoint'\n",
    "str4 = 'Word'"
   ]
  },
  {
   "cell_type": "code",
   "execution_count": 31,
   "id": "f49dff8a-a539-4542-9c9f-c3b023595c09",
   "metadata": {},
   "outputs": [
    {
     "name": "stdout",
     "output_type": "stream",
     "text": [
      "7\n",
      "5\n",
      "10\n",
      "4\n"
     ]
    }
   ],
   "source": [
    "print(len(str1))\n",
    "print(len(str2))\n",
    "print(len(str3))\n",
    "print(len(str4))"
   ]
  },
  {
   "cell_type": "code",
   "execution_count": 37,
   "id": "2f611062-bdfe-4c60-87d3-4f8a22c22150",
   "metadata": {},
   "outputs": [
    {
     "name": "stdout",
     "output_type": "stream",
     "text": [
      "31449600\n"
     ]
    }
   ],
   "source": [
    "# Calcolare e stampare a video quanti secondi ci sono in un anno non bisestile.\n",
    "sec_minuto = 60 # 60 secondi\n",
    "sec_ora = sec_minuto * 60 # 3600 secondi\n",
    "sec_giorno = sec_ora * 24 # 86400 secondi\n",
    "sec_settimana = sec_giorno * 7 # 604800 secondi\n",
    "sec_anno = sec_settimana * 52 # 31449600 secondi\n",
    "print(sec_anno)"
   ]
  },
  {
   "cell_type": "code",
   "execution_count": 39,
   "id": "49bcf6b8-f851-4c59-b178-8eaff1dd9c5d",
   "metadata": {},
   "outputs": [
    {
     "name": "stdout",
     "output_type": "stream",
     "text": [
      "I am studying Python\n"
     ]
    }
   ],
   "source": [
    "# Abbiamo la seguente stringa: my_string = \"I am studying Python\".\n",
    "my_string = 'I am studying Python'\n",
    "print(my_string)"
   ]
  },
  {
   "cell_type": "code",
   "execution_count": 41,
   "id": "fbc40e10-df8c-4b8f-bd9a-8311ac5e159e",
   "metadata": {},
   "outputs": [
    {
     "data": {
      "text/plain": [
       "'I AM STUDYING PYTHON'"
      ]
     },
     "execution_count": 41,
     "metadata": {},
     "output_type": "execute_result"
    }
   ],
   "source": [
    "# Trasformarla in modo che tutti i caratteri siano maiuscoli (uppercase).\n",
    "my_string.upper()"
   ]
  },
  {
   "cell_type": "code",
   "execution_count": 43,
   "id": "578318e4-8456-43d5-8533-38923672241d",
   "metadata": {},
   "outputs": [
    {
     "data": {
      "text/plain": [
       "'i am studying python'"
      ]
     },
     "execution_count": 43,
     "metadata": {},
     "output_type": "execute_result"
    }
   ],
   "source": [
    "# Trasformarla in modo che tutti i caratteri siano minuscoli (lowercase).\n",
    "my_string.lower()"
   ]
  },
  {
   "cell_type": "code",
   "execution_count": 45,
   "id": "76ecc846-2931-41da-b8a9-f2a3302f3449",
   "metadata": {},
   "outputs": [
    {
     "data": {
      "text/plain": [
       "'I am studying a lot'"
      ]
     },
     "execution_count": 45,
     "metadata": {},
     "output_type": "execute_result"
    }
   ],
   "source": [
    "# Sostituire la sottostringa \"Python\" con la stringa \"a lot\".\n",
    "my_string.replace('Python', 'a lot')"
   ]
  },
  {
   "cell_type": "code",
   "execution_count": 47,
   "id": "6447c1a1-a8d8-434e-9fef-eb85b71e4349",
   "metadata": {},
   "outputs": [
    {
     "data": {
      "text/plain": [
       "'I am studying Python'"
      ]
     },
     "execution_count": 47,
     "metadata": {},
     "output_type": "execute_result"
    }
   ],
   "source": [
    "# Usare il metodo .strip(); cambia qualcosa? Perché?\n",
    "my_string.strip()\n",
    "# Il metodo .strip() rimuove gli spazi vuoti a inizio e a fine stringa; nel mio caso questi spazi non c'erano, \n",
    "# dunque non è cambiato nulla."
   ]
  },
  {
   "cell_type": "code",
   "execution_count": 49,
   "id": "bfb3c716-179b-4f5d-ab1e-30400b255128",
   "metadata": {},
   "outputs": [
    {
     "data": {
      "text/plain": [
       "['I', 'am', 'studying', 'Python']"
      ]
     },
     "execution_count": 49,
     "metadata": {},
     "output_type": "execute_result"
    }
   ],
   "source": [
    "# Usare il metodo .split() per trovare tutte le parole (token).\n",
    "my_string.split()"
   ]
  },
  {
   "cell_type": "code",
   "execution_count": 62,
   "id": "8fbb4ed0-280d-4cf1-87a1-f8e22b59ba85",
   "metadata": {},
   "outputs": [
    {
     "name": "stdout",
     "output_type": "stream",
     "text": [
      "['Alex', 'Bob', 'Cindy', 'Dan', 'Emma', 'Faith', 'Grace', 'Henry']\n",
      "['Cybersecurity', 'Data Analyst', 'Backend', 'Frontend', 'Data Analyst', 'Backend']\n"
     ]
    }
   ],
   "source": [
    "# Abbiamo due liste:\n",
    "Studenti = [\"Alex\", \"Bob\", \"Cindy\", \"Dan\", \"Emma\", \"Faith\", \"Grace\", \"Henry\"]\n",
    "Corsi = [\"Cybersecurity\", \"Data Analyst\", \"Backend\", \"Frontend\", \"Data Analyst\", \"Backend\"]\n",
    "print(Studenti)\n",
    "print(Corsi)"
   ]
  },
  {
   "cell_type": "code",
   "execution_count": 68,
   "id": "55de20a1-6cbe-46cb-9867-33141cdecbde",
   "metadata": {},
   "outputs": [],
   "source": [
    "# Tenendo conto che i dati sono in corrispondenza posizionale, leggiamo con attenzione le due liste.\n",
    "# Sapendo che Emma segue Data Analyst, Faith segue Backend, Grace segue Frontend e Henry segue Cybersecurity, \n",
    "# alla lista cui mancano dei dati aggiungiamo i dati mancanti uno alla volta con il metodo .append().\n",
    "Corsi.append('Frontend')\n",
    "Corsi.append('Cybersecurity')"
   ]
  },
  {
   "cell_type": "code",
   "execution_count": 70,
   "id": "a91b1416-db61-4382-8b50-2e111091b1b5",
   "metadata": {},
   "outputs": [
    {
     "name": "stdout",
     "output_type": "stream",
     "text": [
      "['Cybersecurity', 'Data Analyst', 'Backend', 'Frontend', 'Data Analyst', 'Backend', 'Frontend', 'Frontend', 'Cybersecurity']\n"
     ]
    }
   ],
   "source": [
    "print(Corsi)"
   ]
  }
 ],
 "metadata": {
  "kernelspec": {
   "display_name": "Python [conda env:base] *",
   "language": "python",
   "name": "conda-base-py"
  },
  "language_info": {
   "codemirror_mode": {
    "name": "ipython",
    "version": 3
   },
   "file_extension": ".py",
   "mimetype": "text/x-python",
   "name": "python",
   "nbconvert_exporter": "python",
   "pygments_lexer": "ipython3",
   "version": "3.12.7"
  }
 },
 "nbformat": 4,
 "nbformat_minor": 5
}
