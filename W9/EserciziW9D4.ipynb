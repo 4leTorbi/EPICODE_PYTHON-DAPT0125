{
 "cells": [
  {
   "cell_type": "markdown",
   "id": "43ca3eef-6b27-48b8-b30f-096f6de0a5ab",
   "metadata": {},
   "source": [
    "Abbiamo la stringa: nome_scuola = \"Epicode\".\n",
    "Stampare ogni carattere della stringa, uno su ogni riga, utilizzando un **costrutto while**."
   ]
  },
  {
   "cell_type": "code",
   "execution_count": 398,
   "id": "6d25effb-1f66-4ddb-87ee-0565eceed287",
   "metadata": {},
   "outputs": [
    {
     "name": "stdout",
     "output_type": "stream",
     "text": [
      "E\n",
      "p\n",
      "i\n",
      "c\n",
      "o\n",
      "d\n",
      "e\n"
     ]
    }
   ],
   "source": [
    "nome_scuola = \"Epicode\" # inizializzazione\n",
    "lettera = 0             # inizializzazione\n",
    "while lettera < len(nome_scuola):\n",
    "    print(nome_scuola[lettera]) \n",
    "    lettera += 1        # incremento"
   ]
  },
  {
   "cell_type": "markdown",
   "id": "93775f0e-e2f4-4335-827f-67cc998832d7",
   "metadata": {},
   "source": [
    "Stampare a video tutti i numeri da 0 a 20 utilizzando il costrutto while. \n",
    "Utilizzeremo un **ciclo while**, la funzione **print()**, una **variabile** (che dovrà essere inizializzata) e una **procedura di incremento**."
   ]
  },
  {
   "cell_type": "code",
   "execution_count": 400,
   "id": "f2668bd9-1b74-433f-920d-9327dba85ffe",
   "metadata": {},
   "outputs": [
    {
     "name": "stdout",
     "output_type": "stream",
     "text": [
      "0 1 2 3 4 5 6 7 8 9 10 11 12 13 14 15 16 17 18 19 20 "
     ]
    }
   ],
   "source": [
    "numero = 0  # inizializzazione\n",
    "while numero <= 20:\n",
    "   print(numero, end=\" \") # Per visualizzare l'output su un'unica riga e con la tabulazione come separatore\n",
    "   numero += 1 # incremento"
   ]
  },
  {
   "cell_type": "markdown",
   "id": "f3d1a04e-bba2-4152-b12e-0dcecaa08ebf",
   "metadata": {},
   "source": [
    "Calcolare e stampare tutte le prime 10 potenze di 2 (ad es. 2⁰, 2¹, 2², …) utilizzando un **ciclo while**."
   ]
  },
  {
   "cell_type": "code",
   "execution_count": 402,
   "id": "5dd47269-47f5-422e-a97f-a51f5474d6c6",
   "metadata": {},
   "outputs": [
    {
     "name": "stdout",
     "output_type": "stream",
     "text": [
      "1 2 4 8 16 32 64 128 256 512 1024 "
     ]
    }
   ],
   "source": [
    "potenza = 0    # inizializzazione\n",
    "numero_es = 2  # inizializzazione\n",
    "while potenza <= 10:\n",
    "    print(numero_es ** potenza, end= \" \") # Per visualizzare l'output su un'unica riga e con la tabulazione come separatore\n",
    "    potenza += 1  # incremento"
   ]
  },
  {
   "cell_type": "markdown",
   "id": "64376281-00f9-4895-917f-c7bfe3d1163c",
   "metadata": {},
   "source": [
    "Calcolare e stampare tutte le prime N potenze di 2 utilizzando un **ciclo while**, domandando all'utente di inserire **N**."
   ]
  },
  {
   "cell_type": "code",
   "execution_count": 404,
   "id": "3525a9ba-625f-4457-97dd-f17311c987c5",
   "metadata": {},
   "outputs": [
    {
     "name": "stdin",
     "output_type": "stream",
     "text": [
      "Potenze di 2:  4\n"
     ]
    },
    {
     "name": "stdout",
     "output_type": "stream",
     "text": [
      "2 elevato a 0 = 1\n",
      "2 elevato a 1 = 2\n",
      "2 elevato a 2 = 4\n",
      "2 elevato a 3 = 8\n"
     ]
    }
   ],
   "source": [
    "numero_massimo_potenze = int(input('Potenze di 2: ')) # inizializzazione\n",
    "num_potenza = 0                        # inizializzazione\n",
    "while num_potenza < numero_massimo_potenze:\n",
    "    calcolo_potenza = 2 ** num_potenza\n",
    "    print(f'2 elevato a {num_potenza} = {calcolo_potenza}')\n",
    "    num_potenza +=1 # incremento "
   ]
  },
  {
   "cell_type": "markdown",
   "id": "77fd9f93-b554-47fc-a828-3cd9bc7df1d5",
   "metadata": {},
   "source": [
    "Calcolare e stampare tutte le potenze di 2 minori di **25000**."
   ]
  },
  {
   "cell_type": "code",
   "execution_count": 406,
   "id": "75ac61c3-bb8d-48a1-a42f-dbeaf7791a35",
   "metadata": {},
   "outputs": [
    {
     "name": "stdout",
     "output_type": "stream",
     "text": [
      "2 elevato a 0 = 1\n",
      "2 elevato a 1 = 2\n",
      "2 elevato a 2 = 4\n",
      "2 elevato a 3 = 8\n",
      "2 elevato a 4 = 16\n",
      "2 elevato a 5 = 32\n",
      "2 elevato a 6 = 64\n",
      "2 elevato a 7 = 128\n",
      "2 elevato a 8 = 256\n",
      "2 elevato a 9 = 512\n",
      "2 elevato a 10 = 1024\n",
      "2 elevato a 11 = 2048\n",
      "2 elevato a 12 = 4096\n",
      "2 elevato a 13 = 8192\n",
      "2 elevato a 14 = 16384\n",
      "Limite elevazione a potenza < 25000 raggiunto\n"
     ]
    }
   ],
   "source": [
    "potenza_esercizio = 1   # inizializzazione\n",
    "test = 0                # inizializzazione\n",
    "\n",
    "while potenza_esercizio < 25000:\n",
    "    print(f'2 elevato a {test} = {potenza_esercizio}')\n",
    "    test += 1    # incremento \n",
    "    potenza_esercizio = 2 ** test\n",
    "if potenza_esercizio > 25000:\n",
    "    print('Limite elevazione a potenza < 25000 raggiunto')"
   ]
  },
  {
   "cell_type": "markdown",
   "id": "289042c9-b889-4499-8f6e-c6c4f3ba02e8",
   "metadata": {},
   "source": [
    "Scriviamo un programma che chiede in input all'utente una **stringa** e visualizza i primi 3 caratteri, \n",
    "seguiti da 3 punti di sospensione e quindi gli ultimi 3 caratteri, similmente all'esercizio della lezione scorsa.\n",
    "Stavolta facciamo attenzione a tutti i casi particolari, ovvero implementare soluzioni ad hoc per stringhe di lunghezza inferiore a 6 caratteri."
   ]
  },
  {
   "cell_type": "code",
   "execution_count": 408,
   "id": "62acaafd-121f-4463-8297-caa02214ba23",
   "metadata": {},
   "outputs": [
    {
     "name": "stdin",
     "output_type": "stream",
     "text": [
      "Stringa inserita:  fabrizio\n"
     ]
    },
    {
     "name": "stdout",
     "output_type": "stream",
     "text": [
      "fab...zio\n"
     ]
    }
   ],
   "source": [
    "test_stringa_utente = input('Stringa inserita: ')  # inizializzazione\n",
    "lunghezza_stringa = len(test_stringa_utente)            # inizializzazione\n",
    "\n",
    "if lunghezza_stringa <= 4:\n",
    "    print(test_stringa_utente)\n",
    "elif lunghezza_stringa <= 6:\n",
    "    print(test_stringa_utente[0] + \"...\" + test_stringa_utente[-1])\n",
    "else:\n",
    "    print(test_stringa_utente[:3] + \"...\" + test_stringa_utente[-3:])"
   ]
  },
  {
   "cell_type": "markdown",
   "id": "2d1df0da-d43b-4ea0-ba9f-cafdf78ca59e",
   "metadata": {},
   "source": [
    "Memorizza e stampa tutti i fattori di un numero dato in input (cioè tutti i numeri primi che, moltiplicati tra di loro, danno il numero di partenza).\n",
    "Esempio: input: 150, output: [2, 3, 5, 5]."
   ]
  },
  {
   "cell_type": "code",
   "execution_count": 412,
   "id": "86a26110-4768-4ac2-8587-7556aa18f34f",
   "metadata": {},
   "outputs": [
    {
     "name": "stdin",
     "output_type": "stream",
     "text": [
      "Numero inserito:  150\n"
     ]
    },
    {
     "name": "stdout",
     "output_type": "stream",
     "text": [
      "Fattori primi: [2, 3, 5, 5]\n"
     ]
    }
   ],
   "source": [
    "numero_input = int(input('Numero inserito: ')) # inizializzazione\n",
    "fattori = []                                   # inizializzazione\n",
    "divisore = 2                                   # inizializzazione (dal 2 perchè è il primo numero primo)\n",
    "while numero_input > 1:\n",
    "    while numero_input % divisore == 0:  # se il resto della divisione è uguale a 0, metti il divisore nella lista\n",
    "        fattori.append(divisore)\n",
    "        numero_input = numero_input // divisore\n",
    "    divisore += 1   # incremento \n",
    "\n",
    "# Stampa dei fattori primi\n",
    "print(\"Fattori primi:\", fattori)"
   ]
  },
  {
   "cell_type": "markdown",
   "id": "3a47ee31-bfb3-49ea-9f21-34d3793f6a83",
   "metadata": {},
   "source": [
    "Abbiamo la stringa: nome_scuola = \"Epicode\". Stampare ogni carattere della stringa, uno su ogni riga, utilizzando un **costrutto for**."
   ]
  },
  {
   "cell_type": "code",
   "execution_count": 414,
   "id": "2967814d-fdb1-4a1b-837c-3c442dbff8f2",
   "metadata": {},
   "outputs": [
    {
     "name": "stdout",
     "output_type": "stream",
     "text": [
      "E p i c o d e "
     ]
    }
   ],
   "source": [
    "nome_scuola = 'Epicode' # inizializzazione\n",
    "for lettera in nome_scuola:\n",
    "    print(lettera, end=' ')  # Per visualizzare l'output su un'unica riga e con la tabulazione come separatore"
   ]
  },
  {
   "cell_type": "markdown",
   "id": "f601a25b-0e21-4b1f-92f6-5e674c9982c6",
   "metadata": {},
   "source": [
    "Calcolare e stampare tutte le prime 10 potenze di 2 utilizzando un **ciclo**."
   ]
  },
  {
   "cell_type": "code",
   "execution_count": 416,
   "id": "7a110022-d4cd-46ca-9113-8f4afb4c4aa8",
   "metadata": {},
   "outputs": [
    {
     "name": "stdout",
     "output_type": "stream",
     "text": [
      "2 elevato a 0 = 1\n",
      "2 elevato a 1 = 2\n",
      "2 elevato a 2 = 4\n",
      "2 elevato a 3 = 8\n",
      "2 elevato a 4 = 16\n",
      "2 elevato a 5 = 32\n",
      "2 elevato a 6 = 64\n",
      "2 elevato a 7 = 128\n",
      "2 elevato a 8 = 256\n",
      "2 elevato a 9 = 512\n",
      "2 elevato a 10 = 1024\n"
     ]
    }
   ],
   "source": [
    "# METODO 1\n",
    "lista_potenze = [0, 1, 2, 3, 4, 5, 6, 7, 8, 9, 10] # inizializzazione\n",
    "numero = 2                                         # inizializzazione\n",
    "for fattore_potenza in lista_potenze:\n",
    "    _pow_ = numero ** fattore_potenza\n",
    "    print(f'2 elevato a {fattore_potenza} = {_pow_}')"
   ]
  },
  {
   "cell_type": "code",
   "execution_count": 418,
   "id": "e146415c-7542-42c7-8282-284a208268fe",
   "metadata": {},
   "outputs": [
    {
     "name": "stdout",
     "output_type": "stream",
     "text": [
      "1 2 4 8 16 32 64 128 256 512 1024 "
     ]
    }
   ],
   "source": [
    "# METODO 2\n",
    "for numero in range(11):\n",
    "    number = 2\n",
    "    print(number ** numero, end=' ')"
   ]
  },
  {
   "cell_type": "markdown",
   "id": "46ac4531-8580-41ac-9d17-ca13090c6841",
   "metadata": {},
   "source": [
    "Calcolare (ma non stampare) le prime N potenze di K; ognuna di esse andrà memorizzata in coda a una lista.\n",
    "Alla fine, stampare la lista risultante. Proviamo con diversi valori di K, oppure facciamola inserire all'utente.\n",
    "Realizzare due versioni, una con **ciclo while** e una con **ciclo for**."
   ]
  },
  {
   "cell_type": "code",
   "execution_count": 420,
   "id": "36068fe0-c240-4024-bc54-25073a9114dc",
   "metadata": {},
   "outputs": [
    {
     "name": "stdin",
     "output_type": "stream",
     "text": [
      "N inserito:  3\n",
      "K inserito:  4\n"
     ]
    },
    {
     "name": "stdout",
     "output_type": "stream",
     "text": [
      "[1, 4, 16]\n"
     ]
    }
   ],
   "source": [
    "# METODO 1 CON CICLO WHILE\n",
    "N = int(input('N inserito: '))          # inizializzazione\n",
    "K = int(input('K inserito: '))          # inizializzazione\n",
    "listozza_tattica = []                   # inizializzazione\n",
    "num_potenza = 0                         # inizializzazione\n",
    "\n",
    "while num_potenza < N:\n",
    "    listozza_tattica.append(K ** num_potenza)\n",
    "    num_potenza += 1  \n",
    "print(listozza_tattica)"
   ]
  },
  {
   "cell_type": "code",
   "execution_count": 422,
   "id": "80843f24-2a0d-4ccf-b33e-cdbb31dabfb0",
   "metadata": {},
   "outputs": [
    {
     "name": "stdin",
     "output_type": "stream",
     "text": [
      "N inserito:  3\n",
      "K inserito:  4\n"
     ]
    },
    {
     "name": "stdout",
     "output_type": "stream",
     "text": [
      "[1, 4, 16]\n"
     ]
    }
   ],
   "source": [
    "# METODO 2 CON CICLO FOR\n",
    "N = int(input('N inserito: '))          # inizializzazione\n",
    "K = int(input('K inserito: '))          # inizializzazione\n",
    "listozza = []                           # inizializzazione\n",
    "for num_potenza in range(N):\n",
    "    listozza.append(K ** num_potenza)\n",
    "print(listozza)"
   ]
  },
  {
   "cell_type": "markdown",
   "id": "7b50816a-8002-4959-86ec-c37dde964bae",
   "metadata": {},
   "source": [
    "Abbiamo una lista con i guadagni degli ultimi 12 mesi: guadagni = [100, 90, 70, 40, 50, 80, 90, 120, 80, 20, 50, 50]; usando un **costrutto for**, calcolare la media dei guadagni e stamparla a video."
   ]
  },
  {
   "cell_type": "code",
   "execution_count": 430,
   "id": "22c3d059-d728-46ea-bc1b-9237ba75214a",
   "metadata": {},
   "outputs": [
    {
     "name": "stdout",
     "output_type": "stream",
     "text": [
      "8.333333333333334\n",
      "15.833333333333334\n",
      "21.666666666666668\n",
      "25.0\n",
      "29.166666666666668\n",
      "35.833333333333336\n",
      "43.333333333333336\n",
      "53.333333333333336\n",
      "60.0\n",
      "61.666666666666664\n",
      "65.83333333333333\n",
      "70.0\n"
     ]
    }
   ],
   "source": [
    "guadagni = [100, 90, 70, 40, 50, 80, 90, 120, 80, 20, 50, 50] # inizializzazione\n",
    "somma = 0    # somma mobile\n",
    "\n",
    "for guadagno_mensile in guadagni:\n",
    "    somma += guadagno_mensile\n",
    "    media = somma / len(guadagni)\n",
    "    print(media)"
   ]
  },
  {
   "cell_type": "markdown",
   "id": "e37653f0-9864-490b-80b4-76885975a040",
   "metadata": {},
   "source": [
    "Abbiamo una lista di parole: \n",
    "parole = [\"Albergo\", \"Sedia\", \"Borgo\", \"Petalo\", \"Eremo\", \"Belvedere\", \"Semestre\", \"Esteta\", \"Sosta\", \"Orpello\", \"Abete\", \"Orologio\", \"Cesta\", \"Ermellino\"].\n",
    "Stampiamo, per ogni parola, quante volte appare la lettera \"e\"; facciamo attenzione al fatto che appare sia **maiuscola che minuscola**."
   ]
  },
  {
   "cell_type": "code",
   "execution_count": 445,
   "id": "6f2db1fb-eb02-4276-b9c0-2b689ba7ef01",
   "metadata": {},
   "outputs": [
    {
     "name": "stdout",
     "output_type": "stream",
     "text": [
      "1 Albergo\n",
      "1 Sedia\n",
      "0 Borgo\n",
      "1 Petalo\n",
      "2 Eremo\n",
      "4 Belvedere\n",
      "3 Semestre\n",
      "2 Esteta\n",
      "0 Sosta\n",
      "1 Orpello\n",
      "2 Abete\n",
      "0 Orologio\n",
      "1 Cesta\n",
      "2 Ermellino\n"
     ]
    }
   ],
   "source": [
    "parole = [\"Albergo\", \"Sedia\", \"Borgo\", \"Petalo\", \"Eremo\", \"Belvedere\", \"Semestre\", \"Esteta\", \"Sosta\", \"Orpello\", \"Abete\", \"Orologio\", \"Cesta\", \"Ermellino\"] # inizializzazione\n",
    "for singola_parola in parole:\n",
    "    conteggio_e = singola_parola.lower().count('e')  # viene restituita la parola in minuscolo e di essa vengono poi contate le 'e'\n",
    "    print(conteggio_e, singola_parola)\n",
    "    "
   ]
  },
  {
   "cell_type": "markdown",
   "id": "dbe525fd-068a-4456-a947-ebaa4453e4b8",
   "metadata": {},
   "source": [
    "Creiamo un **dizionario** che assegni ad ogni proprietario la sua auto, sapendo che \n",
    "Ada guida una Punto, Ben guida una Multipla, Charlie guida una Golf e Debbie guida una 107. \n",
    "Stampiamo il dizionario per intero, e poi l'auto associata a Debbie."
   ]
  },
  {
   "cell_type": "code",
   "execution_count": 456,
   "id": "4a8549ba-5c33-471d-86d1-88a05071df33",
   "metadata": {},
   "outputs": [
    {
     "name": "stdout",
     "output_type": "stream",
     "text": [
      "{'Ada': 'Punto', 'Ben': 'Multipla', 'Charlie': 'Golf', 'Debbie': '107'}\n"
     ]
    },
    {
     "data": {
      "text/plain": [
       "'107'"
      ]
     },
     "execution_count": 456,
     "metadata": {},
     "output_type": "execute_result"
    }
   ],
   "source": [
    "proprietario_e_auto = {'Ada':'Punto', 'Ben':'Multipla', 'Charlie':'Golf', 'Debbie': '107'}\n",
    "\n",
    "print(proprietario_e_auto)\n",
    "proprietario_e_auto['Debbie']"
   ]
  },
  {
   "cell_type": "code",
   "execution_count": 462,
   "id": "d1dc87e6-b1e7-4ca0-a664-92781082e53b",
   "metadata": {},
   "outputs": [
    {
     "name": "stdout",
     "output_type": "stream",
     "text": [
      "107\n",
      "dict_keys(['Ada', 'Ben', 'Charlie', 'Debbie'])\n",
      "dict_values(['Punto', 'Multipla', 'Golf', '107'])\n"
     ]
    }
   ],
   "source": [
    "print(proprietario_e_auto.get('Debbie'))\n",
    "print(proprietario_e_auto.keys())\n",
    "print(proprietario_e_auto.values())"
   ]
  },
  {
   "cell_type": "markdown",
   "id": "6058a032-df59-4942-9421-b82856bb9fa5",
   "metadata": {},
   "source": [
    "Abbiamo un **dizionario** che assegna ad ogni proprietario la sua auto: proprietario_e_auto = {\"Ada\": \"Punto\", \"Ben\": \"Multipla\", \"Charlie\": \"Golf\", \"Debbie\": \"107\"}.\n",
    "Con un **ciclo**, e usando il **metodo .values()**, stampiamo a video tutte le auto che non sono una Multipla."
   ]
  },
  {
   "cell_type": "code",
   "execution_count": 481,
   "id": "51913ee6-8d0c-4230-9b95-171eeb6e26a9",
   "metadata": {},
   "outputs": [
    {
     "name": "stdout",
     "output_type": "stream",
     "text": [
      "Punto\n",
      "Golf\n",
      "107\n"
     ]
    }
   ],
   "source": [
    "proprietario_e_auto = {'Ada':'Punto', 'Ben':'Multipla', 'Charlie':'Golf', 'Debbie': '107'}\n",
    "auto_da_escludere = proprietario_e_auto.get('Ben')   # inizializzazione\n",
    "\n",
    "for auto in proprietario_e_auto.values():  # prende in considerazione le auto elencate come valori\n",
    "    if auto != auto_da_escludere:\n",
    "        print(auto)"
   ]
  },
  {
   "cell_type": "markdown",
   "id": "090d5950-6d63-4c37-83af-deaedac22d2d",
   "metadata": {},
   "source": [
    "Abbiamo due **dizionari** che assegnano ad ogni proprietario la propria auto: dizionario_auto = {\"Ada\": \"Punto\", \"Ben\": \"Multipla\", \"Charlie\": \"Golf\", \"Debbie\": \"107\", \"Emily\": \"A1\"} nuovi_proprietari = {\"Ben\": \"Polo\", \"Fred\": \"Octavia\", \"Grace\": \"Yaris\", \"Hugh\": \"Clio\"}.\n",
    "Aggiornare **dizionario_auto** con i dati contenuti in **nuovi_proprietari** e stamparlo. Cosa è successo a Ben?"
   ]
  },
  {
   "cell_type": "code",
   "execution_count": 487,
   "id": "084d10fa-c018-44da-be4f-ad41434aa8c8",
   "metadata": {},
   "outputs": [],
   "source": [
    "dizionario_auto = {\"Ada\": \"Punto\", \"Ben\": \"Multipla\", \"Charlie\": \"Golf\", \"Debbie\": \"107\", \"Emily\": \"A1\"}\n",
    "nuovi_proprietari = {\"Ben\": \"Polo\", \"Fred\": \"Octavia\", \"Grace\": \"Yaris\", \"Hugh\": \"Clio\"}"
   ]
  },
  {
   "cell_type": "code",
   "execution_count": 489,
   "id": "93e1043d-c6b8-4ecc-b170-e736be4ce693",
   "metadata": {},
   "outputs": [
    {
     "name": "stdout",
     "output_type": "stream",
     "text": [
      "{'Ada': 'Punto', 'Ben': 'Polo', 'Charlie': 'Golf', 'Debbie': '107', 'Emily': 'A1', 'Fred': 'Octavia', 'Grace': 'Yaris', 'Hugh': 'Clio'}\n"
     ]
    }
   ],
   "source": [
    "dizionario_auto.update(nuovi_proprietari)\n",
    "print(dizionario_auto)"
   ]
  },
  {
   "cell_type": "markdown",
   "id": "cec1d9ad-c5d1-4190-816a-5f6fe992574b",
   "metadata": {},
   "source": [
    "A **Ben** è stata assegnata la nuova auto nel momento in cui abbiamo aggiornato il dizionario con l'update"
   ]
  },
  {
   "cell_type": "code",
   "execution_count": null,
   "id": "452fdf53-b01e-4371-af6f-05ca50ee1e89",
   "metadata": {},
   "outputs": [],
   "source": []
  }
 ],
 "metadata": {
  "kernelspec": {
   "display_name": "Python [conda env:base] *",
   "language": "python",
   "name": "conda-base-py"
  },
  "language_info": {
   "codemirror_mode": {
    "name": "ipython",
    "version": 3
   },
   "file_extension": ".py",
   "mimetype": "text/x-python",
   "name": "python",
   "nbconvert_exporter": "python",
   "pygments_lexer": "ipython3",
   "version": "3.12.7"
  }
 },
 "nbformat": 4,
 "nbformat_minor": 5
}
